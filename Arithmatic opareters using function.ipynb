{
 "cells": [
  {
   "cell_type": "code",
   "execution_count": 9,
   "id": "322bde0b-d054-4163-a534-8e4c9ed598a5",
   "metadata": {},
   "outputs": [
    {
     "name": "stdin",
     "output_type": "stream",
     "text": [
      "Enter the number: 8\n",
      "Enter the number: 9\n"
     ]
    },
    {
     "name": "stdout",
     "output_type": "stream",
     "text": [
      "(17, -1, 72, 0.8888888888888888)\n"
     ]
    }
   ],
   "source": [
    "def Arithmatic(a,b):\n",
    "  return a+b,a-b,a*b,a/b\n",
    "a=int(input(\"Enter the number:\"))\n",
    "b=int(input(\"Enter the number:\"))\n",
    "print(Arithmatic(a,b))"
   ]
  },
  {
   "cell_type": "code",
   "execution_count": null,
   "id": "5a7e0ae2-12e9-4a8e-bd16-f7b6cfa83a71",
   "metadata": {},
   "outputs": [],
   "source": []
  }
 ],
 "metadata": {
  "kernelspec": {
   "display_name": "Python 3 (ipykernel)",
   "language": "python",
   "name": "python3"
  },
  "language_info": {
   "codemirror_mode": {
    "name": "ipython",
    "version": 3
   },
   "file_extension": ".py",
   "mimetype": "text/x-python",
   "name": "python",
   "nbconvert_exporter": "python",
   "pygments_lexer": "ipython3",
   "version": "3.12.4"
  }
 },
 "nbformat": 4,
 "nbformat_minor": 5
}
