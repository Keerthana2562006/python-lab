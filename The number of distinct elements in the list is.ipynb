{
 "cells": [
  {
   "cell_type": "code",
   "execution_count": 5,
   "id": "6756658e-330e-493c-b0b1-7878937e6853",
   "metadata": {},
   "outputs": [
    {
     "name": "stdin",
     "output_type": "stream",
     "text": [
      "Enter the number of elements in the list:  5\n",
      "Enter element :  2\n",
      "Enter element :  2\n",
      "Enter element :  3\n",
      "Enter element :  4\n",
      "Enter element :  5\n"
     ]
    },
    {
     "name": "stdout",
     "output_type": "stream",
     "text": [
      "The number of distinct elements in the list is: 4\n"
     ]
    }
   ],
   "source": [
    "n = int(input(\"Enter the number of elements in the list: \"))\n",
    "my_list = []\n",
    "for i in range(n):\n",
    "  element = int(input(\"Enter element : \"))\n",
    "  my_list.append(element)\n",
    "\n",
    "distinct_elements = []\n",
    "for element in my_list:\n",
    "  if element not in distinct_elements:\n",
    "    distinct_elements.append(element)\n",
    "\n",
    "num_distinct_elements = len(distinct_elements)\n",
    "print(\"The number of distinct elements in the list is:\",num_distinct_elements)"
   ]
  },
  {
   "cell_type": "code",
   "execution_count": null,
   "id": "59cbfb2b-7805-4603-b5f4-0e97443ed906",
   "metadata": {},
   "outputs": [],
   "source": []
  }
 ],
 "metadata": {
  "kernelspec": {
   "display_name": "Python 3 (ipykernel)",
   "language": "python",
   "name": "python3"
  },
  "language_info": {
   "codemirror_mode": {
    "name": "ipython",
    "version": 3
   },
   "file_extension": ".py",
   "mimetype": "text/x-python",
   "name": "python",
   "nbconvert_exporter": "python",
   "pygments_lexer": "ipython3",
   "version": "3.12.4"
  }
 },
 "nbformat": 4,
 "nbformat_minor": 5
}
