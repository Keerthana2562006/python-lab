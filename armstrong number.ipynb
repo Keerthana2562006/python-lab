{
 "cells": [
  {
   "cell_type": "code",
   "execution_count": 19,
   "id": "c6b8303b-405b-488c-8017-ed62f53b6399",
   "metadata": {},
   "outputs": [
    {
     "name": "stdin",
     "output_type": "stream",
     "text": [
      " 153\n"
     ]
    },
    {
     "name": "stdout",
     "output_type": "stream",
     "text": [
      "153 armstrong number\n"
     ]
    }
   ],
   "source": [
    "n=int(input())\n",
    "a=str(n)\n",
    "b=len(a)\n",
    "result=0\n",
    "for i in a:\n",
    "    result += int(i)**b\n",
    "if result==n:\n",
    "    print(n,\"armstrong number\")\n",
    "else:\n",
    "    print(n,\"not armstrong number\")"
   ]
  },
  {
   "cell_type": "code",
   "execution_count": null,
   "id": "bd10f363-96b5-47cd-887f-ab52b5540874",
   "metadata": {},
   "outputs": [],
   "source": []
  }
 ],
 "metadata": {
  "kernelspec": {
   "display_name": "Python 3 (ipykernel)",
   "language": "python",
   "name": "python3"
  },
  "language_info": {
   "codemirror_mode": {
    "name": "ipython",
    "version": 3
   },
   "file_extension": ".py",
   "mimetype": "text/x-python",
   "name": "python",
   "nbconvert_exporter": "python",
   "pygments_lexer": "ipython3",
   "version": "3.12.4"
  }
 },
 "nbformat": 4,
 "nbformat_minor": 5
}
