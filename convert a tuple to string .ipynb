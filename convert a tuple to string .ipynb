{
 "cells": [
  {
   "cell_type": "code",
   "execution_count": 1,
   "id": "3e910707-e7a8-45b9-ba2d-64ead565086a",
   "metadata": {},
   "outputs": [
    {
     "name": "stdin",
     "output_type": "stream",
     "text": [
      " exercises \n"
     ]
    },
    {
     "name": "stdout",
     "output_type": "stream",
     "text": [
      "('e', 'x', 'e', 'r', 'c', 'i', 's', 'e', 's', ' ')\n"
     ]
    }
   ],
   "source": [
    "n=tuple(input())\n",
    "string=(tuple(n))\n",
    "print(string)"
   ]
  },
  {
   "cell_type": "code",
   "execution_count": null,
   "id": "ae8f081c-322f-4286-9d85-af5551060127",
   "metadata": {},
   "outputs": [],
   "source": []
  }
 ],
 "metadata": {
  "kernelspec": {
   "display_name": "Python 3 (ipykernel)",
   "language": "python",
   "name": "python3"
  },
  "language_info": {
   "codemirror_mode": {
    "name": "ipython",
    "version": 3
   },
   "file_extension": ".py",
   "mimetype": "text/x-python",
   "name": "python",
   "nbconvert_exporter": "python",
   "pygments_lexer": "ipython3",
   "version": "3.12.4"
  }
 },
 "nbformat": 4,
 "nbformat_minor": 5
}
