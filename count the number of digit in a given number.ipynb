{
 "cells": [
  {
   "cell_type": "code",
   "execution_count": 3,
   "id": "41838eae-020a-4d85-9152-9e1ea9955fe0",
   "metadata": {},
   "outputs": [
    {
     "name": "stdin",
     "output_type": "stream",
     "text": [
      " 456\n"
     ]
    },
    {
     "name": "stdout",
     "output_type": "stream",
     "text": [
      "45\n"
     ]
    }
   ],
   "source": [
    "#sample code for removing the last digit\n",
    "x = int(input())\n",
    "new = x//10  #x//10 is for removing the last digit logic\n",
    "print(new)"
   ]
  },
  {
   "cell_type": "code",
   "execution_count": 1,
   "id": "bd7f233f-ec45-4312-8727-50442783e4ec",
   "metadata": {},
   "outputs": [
    {
     "name": "stdin",
     "output_type": "stream",
     "text": [
      " 515\n"
     ]
    },
    {
     "name": "stdout",
     "output_type": "stream",
     "text": [
      "The number of digits is:  3\n"
     ]
    }
   ],
   "source": [
    "a=int(input())        # count=0 \n",
    "count=0\n",
    "while a>0:           #write a program to find the how many digits in the given number \n",
    "  a=a//10\n",
    "  count=count+1\n",
    "print(\"The number of digits is: \",count)"
   ]
  },
  {
   "cell_type": "code",
   "execution_count": null,
   "id": "dea27a5d-3a8d-4447-9361-3804f8813c30",
   "metadata": {},
   "outputs": [],
   "source": []
  }
 ],
 "metadata": {
  "kernelspec": {
   "display_name": "Python 3 (ipykernel)",
   "language": "python",
   "name": "python3"
  },
  "language_info": {
   "codemirror_mode": {
    "name": "ipython",
    "version": 3
   },
   "file_extension": ".py",
   "mimetype": "text/x-python",
   "name": "python",
   "nbconvert_exporter": "python",
   "pygments_lexer": "ipython3",
   "version": "3.12.4"
  }
 },
 "nbformat": 4,
 "nbformat_minor": 5
}
