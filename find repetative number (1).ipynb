{
 "cells": [
  {
   "cell_type": "code",
   "execution_count": 9,
   "id": "15c3694a-2996-4bc8-8940-e74bad04b165",
   "metadata": {},
   "outputs": [
    {
     "name": "stdin",
     "output_type": "stream",
     "text": [
      "Enter number of Elements : 5\n",
      "Enter Element : 3\n",
      "Enter Element : 3\n",
      "Enter Element : 4\n",
      "Enter Element : 5\n",
      "Enter Element : 6\n"
     ]
    },
    {
     "name": "stdout",
     "output_type": "stream",
     "text": [
      "Tuple : ('3', '3', '4', '5', '6')\n"
     ]
    },
    {
     "name": "stdin",
     "output_type": "stream",
     "text": [
      "Enter element to search : 3\n"
     ]
    },
    {
     "name": "stdout",
     "output_type": "stream",
     "text": [
      "2\n"
     ]
    }
   ],
   "source": [
    "listt = []\n",
    "s = int(input(\"Enter number of Elements :\"))\n",
    "for i in range(s):\n",
    "    ele = input(\"Enter Element :\")\n",
    "    listt.append(ele)\n",
    "tup = tuple(listt)\n",
    "print(\"Tuple :\", tup)\n",
    "ch = input(\"Enter element to search :\")\n",
    "print(tup.count(ch))"
   ]
  },
  {
   "cell_type": "code",
   "execution_count": null,
   "id": "7b67f573-9bc1-4e0d-a5ab-32e2174a9711",
   "metadata": {},
   "outputs": [],
   "source": []
  }
 ],
 "metadata": {
  "kernelspec": {
   "display_name": "Python 3 (ipykernel)",
   "language": "python",
   "name": "python3"
  },
  "language_info": {
   "codemirror_mode": {
    "name": "ipython",
    "version": 3
   },
   "file_extension": ".py",
   "mimetype": "text/x-python",
   "name": "python",
   "nbconvert_exporter": "python",
   "pygments_lexer": "ipython3",
   "version": "3.12.4"
  }
 },
 "nbformat": 4,
 "nbformat_minor": 5
}
