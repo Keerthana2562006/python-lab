{
 "cells": [
  {
   "cell_type": "code",
   "execution_count": 1,
   "id": "5d882a1f-6c3c-40ab-b6fb-9f33c22384b0",
   "metadata": {},
   "outputs": [
    {
     "name": "stdin",
     "output_type": "stream",
     "text": [
      " 3\n",
      " 6\n"
     ]
    },
    {
     "name": "stdout",
     "output_type": "stream",
     "text": [
      "  two digits\n"
     ]
    }
   ],
   "source": [
    "m=int(input())\n",
    "n=int(input())\n",
    "if len(str(m))==2 and len(str(n))==2:\n",
    "    for i in range(m,n+1):\n",
    "         s = str(i)\n",
    "         tens = s[0]\n",
    "         units = s[1]\n",
    "         sum = int(tens) + int(units)\n",
    "         prod = int(tens) * int(units)\n",
    "    if(sum+prod)==int(s):\n",
    "        print(\"\\n\",i,\"-special numer\\n\")\n",
    "    else:\n",
    "        print(i, \"-  not a special number\")\n",
    "else:\n",
    "    print(\"  two digits\")"
   ]
  },
  {
   "cell_type": "code",
   "execution_count": 13,
   "id": "ea6c3276-394d-4892-9544-75b3f8e3c49e",
   "metadata": {},
   "outputs": [
    {
     "name": "stdin",
     "output_type": "stream",
     "text": [
      " 90\n"
     ]
    },
    {
     "name": "stdout",
     "output_type": "stream",
     "text": [
      "first digit: 9\n",
      "second digit: 0\n"
     ]
    }
   ],
   "source": [
    "n=int(input())\n",
    "\n",
    "first=n//10\n",
    "second=n%10\n",
    "\n",
    "print(\"first digit:\",first)\n",
    "print(\"second digit:\",second)\n",
    "sum=first+second\n",
    "product=first*second\n",
    "\n",
    "if(sum+product) == n:\n",
    "    print(\"yes\")\n",
    "else:\n",
    "    (\"no\")"
   ]
  },
  {
   "cell_type": "code",
   "execution_count": null,
   "id": "854d977d-3cd7-4b03-8ccc-ab2a1a20cf8b",
   "metadata": {},
   "outputs": [],
   "source": []
  }
 ],
 "metadata": {
  "kernelspec": {
   "display_name": "Python 3 (ipykernel)",
   "language": "python",
   "name": "python3"
  },
  "language_info": {
   "codemirror_mode": {
    "name": "ipython",
    "version": 3
   },
   "file_extension": ".py",
   "mimetype": "text/x-python",
   "name": "python",
   "nbconvert_exporter": "python",
   "pygments_lexer": "ipython3",
   "version": "3.12.4"
  }
 },
 "nbformat": 4,
 "nbformat_minor": 5
}
